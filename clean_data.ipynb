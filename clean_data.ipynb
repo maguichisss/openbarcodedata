{
 "cells": [
  {
   "cell_type": "code",
   "execution_count": 1,
   "id": "lovely-brush",
   "metadata": {},
   "outputs": [
    {
     "name": "stderr",
     "output_type": "stream",
     "text": [
      "/home/maugb/.virtualenvs/test/lib/python3.9/site-packages/pandas/compat/__init__.py:97: UserWarning: Could not import the lzma module. Your installed Python is incomplete. Attempting to use lzma compression will result in a RuntimeError.\n",
      "  warnings.warn(msg)\n"
     ]
    }
   ],
   "source": [
    "import pandas as pd\n",
    "import re\n",
    "# util functions\n",
    "def trim_all_columns(df):\n",
    "    \"\"\"\n",
    "    Trim whitespace from ends of each value across all series in dataframe\n",
    "    \"\"\"\n",
    "    trim_strings = lambda x: x.strip() if isinstance(x, str) else x\n",
    "    return df.applymap(trim_strings)\n"
   ]
  },
  {
   "cell_type": "markdown",
   "id": "adjusted-reduction",
   "metadata": {},
   "source": [
    "# PRODUCTS database"
   ]
  },
  {
   "cell_type": "code",
   "execution_count": 2,
   "id": "pretty-association",
   "metadata": {},
   "outputs": [
    {
     "data": {
      "text/html": [
       "<div>\n",
       "<style scoped>\n",
       "    .dataframe tbody tr th:only-of-type {\n",
       "        vertical-align: middle;\n",
       "    }\n",
       "\n",
       "    .dataframe tbody tr th {\n",
       "        vertical-align: top;\n",
       "    }\n",
       "\n",
       "    .dataframe thead th {\n",
       "        text-align: right;\n",
       "    }\n",
       "</style>\n",
       "<table border=\"1\" class=\"dataframe\">\n",
       "  <thead>\n",
       "    <tr style=\"text-align: right;\">\n",
       "      <th></th>\n",
       "      <th>EAN</th>\n",
       "      <th>ITEM_DESCRIPTION</th>\n",
       "    </tr>\n",
       "  </thead>\n",
       "  <tbody>\n",
       "    <tr>\n",
       "      <th>count</th>\n",
       "      <td>250865</td>\n",
       "      <td>250865</td>\n",
       "    </tr>\n",
       "    <tr>\n",
       "      <th>unique</th>\n",
       "      <td>250865</td>\n",
       "      <td>206011</td>\n",
       "    </tr>\n",
       "    <tr>\n",
       "      <th>top</th>\n",
       "      <td>780508000005</td>\n",
       "      <td>QUESO 1 KG.</td>\n",
       "    </tr>\n",
       "    <tr>\n",
       "      <th>freq</th>\n",
       "      <td>1</td>\n",
       "      <td>599</td>\n",
       "    </tr>\n",
       "  </tbody>\n",
       "</table>\n",
       "</div>"
      ],
      "text/plain": [
       "                 EAN ITEM_DESCRIPTION\n",
       "count         250865           250865\n",
       "unique        250865           206011\n",
       "top     780508000005      QUESO 1 KG.\n",
       "freq               1              599"
      ]
     },
     "execution_count": 2,
     "metadata": {},
     "output_type": "execute_result"
    }
   ],
   "source": [
    "import pandas as pd\n",
    "import re\n",
    "fields = ['EAN',\n",
    "    #'ITEM_NAME',\n",
    "    'ITEM_DESCRIPTION',\n",
    "    #'CATEGORY',\n",
    "    #'SUB_CATEGORY',\n",
    "    #'SUB_SUB_CATEGORY',\n",
    "    #'BRAND_NAME',\n",
    "    #'SKU',\n",
    "    #'BUY_UNIT',\n",
    "    #'DESCRIPTION_STATUS',\n",
    "    #'ORGANIC_ITEM',\n",
    "    #'KIRLAND_ITEM',\n",
    "    #'FINELINE_NUMBER',\n",
    "    #'ITEM_IMG',\n",
    "]\n",
    "df = pd.read_csv('productos_cs.csv', sep='|', index_col=False, usecols=fields)\n",
    "# sort\n",
    "df.sort_values(\"EAN\", inplace=True)\n",
    "# dropping ALL duplicte values \n",
    "df.drop_duplicates(subset=\"EAN\", keep=False, inplace=True)\n",
    "# clean html tags\n",
    "df['ITEM_DESCRIPTION'] = df['ITEM_DESCRIPTION'].apply(lambda x: re.sub('<[^<]+?>', '', x))\n",
    "# filter EAN 8 length\n",
    "df.EAN = df.EAN.apply(str)\n",
    "df = df[df['EAN'].apply(lambda x: len(x)>=8)]\n",
    "df = df[df.ITEM_DESCRIPTION.notnull()]\n",
    "# get size, weight, quantity\n",
    "# (\\d*\\.?\\d+)\\s*(gr?|kgs?)\n",
    "df.describe()"
   ]
  },
  {
   "cell_type": "code",
   "execution_count": 3,
   "id": "varied-broadcast",
   "metadata": {},
   "outputs": [],
   "source": [
    "# store CATEGORY,SUB_CATEGORY,SUB_SUB_CATEGORY and BRAND_NAME in CSVs and delete their columns\n",
    "#CATEGORY = pd.Series(df.CATEGORY.unique()).sort_values()\n",
    "#CATEGORY.to_csv(\"category.csv\")\n",
    "#SUB_CATEGORY = pd.Series(df.SUB_CATEGORY.unique()).sort_values()\n",
    "#SUB_CATEGORY.to_csv(\"sub_category.csv\")\n",
    "#SUB_SUB_CATEGORY = pd.Series(df.SUB_SUB_CATEGORY.unique()).sort_values()\n",
    "#SUB_SUB_CATEGORY.to_csv(\"sub_sub_category.csv\")\n",
    "#BRAND_NAME = pd.Series(df.BRAND_NAME.unique()).sort_values()\n",
    "#BRAND_NAME.to_csv(\"brand.csv\")\n",
    "#len(BRAND_NAME)\n",
    "# delete unecessary columns\n",
    "#del df['CATEGORY']\n",
    "#del df['SUB_CATEGORY']\n",
    "#del df['SUB_SUB_CATEGORY']\n",
    "#del df['BRAND_NAME']\n",
    "#df_country = pd.read_csv('gs1_countries.csv', sep='|', index_col=False)\n",
    "#df_country.country_code = df_country.country_code.apply(str)\n",
    "# get counrty code\n",
    "#df['country_code'] = df['EAN'].str[:3]\n",
    "# get csv of countries\n"
   ]
  },
  {
   "cell_type": "code",
   "execution_count": null,
   "id": "institutional-router",
   "metadata": {},
   "outputs": [],
   "source": []
  },
  {
   "cell_type": "markdown",
   "id": "absent-three",
   "metadata": {},
   "source": [
    "# PRODUCTOS ml1"
   ]
  },
  {
   "cell_type": "code",
   "execution_count": 4,
   "id": "jewish-threshold",
   "metadata": {},
   "outputs": [
    {
     "data": {
      "text/html": [
       "<div>\n",
       "<style scoped>\n",
       "    .dataframe tbody tr th:only-of-type {\n",
       "        vertical-align: middle;\n",
       "    }\n",
       "\n",
       "    .dataframe tbody tr th {\n",
       "        vertical-align: top;\n",
       "    }\n",
       "\n",
       "    .dataframe thead th {\n",
       "        text-align: right;\n",
       "    }\n",
       "</style>\n",
       "<table border=\"1\" class=\"dataframe\">\n",
       "  <thead>\n",
       "    <tr style=\"text-align: right;\">\n",
       "      <th></th>\n",
       "      <th>EAN</th>\n",
       "      <th>producto</th>\n",
       "    </tr>\n",
       "  </thead>\n",
       "  <tbody>\n",
       "    <tr>\n",
       "      <th>count</th>\n",
       "      <td>20181</td>\n",
       "      <td>20181</td>\n",
       "    </tr>\n",
       "    <tr>\n",
       "      <th>unique</th>\n",
       "      <td>20181</td>\n",
       "      <td>19901</td>\n",
       "    </tr>\n",
       "    <tr>\n",
       "      <th>top</th>\n",
       "      <td>7503007575012</td>\n",
       "      <td>BOLSA REGALO</td>\n",
       "    </tr>\n",
       "    <tr>\n",
       "      <th>freq</th>\n",
       "      <td>1</td>\n",
       "      <td>25</td>\n",
       "    </tr>\n",
       "  </tbody>\n",
       "</table>\n",
       "</div>"
      ],
      "text/plain": [
       "                  EAN      producto\n",
       "count           20181         20181\n",
       "unique          20181         19901\n",
       "top     7503007575012  BOLSA REGALO\n",
       "freq                1            25"
      ]
     },
     "execution_count": 4,
     "metadata": {},
     "output_type": "execute_result"
    }
   ],
   "source": [
    "import pandas as pd\n",
    "import re\n",
    "df1 = pd.read_csv('productos_ml1_60.csv', index_col=False)\n",
    "# dropping ALL duplicte values \n",
    "df1.drop_duplicates(subset=\"EAN\", keep=False, inplace=True)\n",
    "# sort\n",
    "#df1.sort_values(\"EAN\", inplace=True)\n",
    "# filter EAN 8 length\n",
    "df1.EAN = df1.EAN.apply(str)\n",
    "df1 = df1[df1['EAN'].apply(lambda x: len(x)>=8)]\n",
    "df1 = df1[df1.producto.notnull()]\n",
    "df1.describe()"
   ]
  },
  {
   "cell_type": "markdown",
   "id": "reported-ethernet",
   "metadata": {},
   "source": [
    "# OPEN FOODS FACTS # https://world.openfoodfacts.org/data"
   ]
  },
  {
   "cell_type": "code",
   "execution_count": 7,
   "id": "asian-local",
   "metadata": {},
   "outputs": [
    {
     "name": "stderr",
     "output_type": "stream",
     "text": [
      "/home/maugb/.virtualenvs/test/lib/python3.9/site-packages/IPython/core/interactiveshell.py:3155: DtypeWarning: Columns (0) have mixed types.Specify dtype option on import or set low_memory=False.\n",
      "  has_raised = await self.run_ast_nodes(code_ast.body, cell_name,\n"
     ]
    },
    {
     "data": {
      "text/html": [
       "<div>\n",
       "<style scoped>\n",
       "    .dataframe tbody tr th:only-of-type {\n",
       "        vertical-align: middle;\n",
       "    }\n",
       "\n",
       "    .dataframe tbody tr th {\n",
       "        vertical-align: top;\n",
       "    }\n",
       "\n",
       "    .dataframe thead th {\n",
       "        text-align: right;\n",
       "    }\n",
       "</style>\n",
       "<table border=\"1\" class=\"dataframe\">\n",
       "  <thead>\n",
       "    <tr style=\"text-align: right;\">\n",
       "      <th></th>\n",
       "      <th>EAN</th>\n",
       "      <th>product_name</th>\n",
       "      <th>image_url</th>\n",
       "    </tr>\n",
       "  </thead>\n",
       "  <tbody>\n",
       "    <tr>\n",
       "      <th>count</th>\n",
       "      <td>1570923</td>\n",
       "      <td>1570923</td>\n",
       "      <td>1162644</td>\n",
       "    </tr>\n",
       "    <tr>\n",
       "      <th>unique</th>\n",
       "      <td>1570923</td>\n",
       "      <td>1041999</td>\n",
       "      <td>1162576</td>\n",
       "    </tr>\n",
       "    <tr>\n",
       "      <th>top</th>\n",
       "      <td>4032218150006</td>\n",
       "      <td>Aceite de oliva virgen extra</td>\n",
       "      <td>https://static.openfoodfacts.org/images/produc...</td>\n",
       "    </tr>\n",
       "    <tr>\n",
       "      <th>freq</th>\n",
       "      <td>1</td>\n",
       "      <td>1215</td>\n",
       "      <td>30</td>\n",
       "    </tr>\n",
       "  </tbody>\n",
       "</table>\n",
       "</div>"
      ],
      "text/plain": [
       "                  EAN                  product_name  \\\n",
       "count         1570923                       1570923   \n",
       "unique        1570923                       1041999   \n",
       "top     4032218150006  Aceite de oliva virgen extra   \n",
       "freq                1                          1215   \n",
       "\n",
       "                                                image_url  \n",
       "count                                             1162644  \n",
       "unique                                            1162576  \n",
       "top     https://static.openfoodfacts.org/images/produc...  \n",
       "freq                                                   30  "
      ]
     },
     "execution_count": 7,
     "metadata": {},
     "output_type": "execute_result"
    }
   ],
   "source": [
    "import pandas as pd\n",
    "import re\n",
    "fields = ['code',\n",
    " 'product_name',\n",
    " #'quantity',\n",
    " #'brands',\n",
    " #'categories_en',\n",
    " #'countries_en',\n",
    " 'image_url',\n",
    "]\n",
    "#df2 = pd.read_csv('openfoodfacts.org.products_reduced.csv', sep='\\t', index_col=False, usecols=fields)\n",
    "df2 = pd.read_csv('openfoodfacts.org.products.csv', sep='\\t', index_col=False, usecols=fields)\n",
    "df2.rename(columns={'code': 'EAN'}, inplace=True)\n",
    "# dropping ALL duplicte values \n",
    "df2.EAN = df2.EAN.apply(str)\n",
    "df2.drop_duplicates(subset=\"EAN\", keep=False, inplace=True)\n",
    "# filter EAN 8 length\n",
    "df2 = df2[df2['EAN'].apply(lambda x: len(x)>=8)]\n",
    "df2 = df2[df2.product_name.notnull()]\n",
    "df2.describe()"
   ]
  },
  {
   "cell_type": "markdown",
   "id": "finite-sphere",
   "metadata": {},
   "source": [
    "# PRODUCTOS ml2"
   ]
  },
  {
   "cell_type": "code",
   "execution_count": 6,
   "id": "expensive-shakespeare",
   "metadata": {},
   "outputs": [
    {
     "data": {
      "text/html": [
       "<div>\n",
       "<style scoped>\n",
       "    .dataframe tbody tr th:only-of-type {\n",
       "        vertical-align: middle;\n",
       "    }\n",
       "\n",
       "    .dataframe tbody tr th {\n",
       "        vertical-align: top;\n",
       "    }\n",
       "\n",
       "    .dataframe thead th {\n",
       "        text-align: right;\n",
       "    }\n",
       "</style>\n",
       "<table border=\"1\" class=\"dataframe\">\n",
       "  <thead>\n",
       "    <tr style=\"text-align: right;\">\n",
       "      <th></th>\n",
       "      <th>EAN</th>\n",
       "      <th>Descripcion</th>\n",
       "    </tr>\n",
       "  </thead>\n",
       "  <tbody>\n",
       "    <tr>\n",
       "      <th>count</th>\n",
       "      <td>20640</td>\n",
       "      <td>20640</td>\n",
       "    </tr>\n",
       "    <tr>\n",
       "      <th>unique</th>\n",
       "      <td>20640</td>\n",
       "      <td>20217</td>\n",
       "    </tr>\n",
       "    <tr>\n",
       "      <th>top</th>\n",
       "      <td>7501025403812</td>\n",
       "      <td></td>\n",
       "    </tr>\n",
       "    <tr>\n",
       "      <th>freq</th>\n",
       "      <td>1</td>\n",
       "      <td>30</td>\n",
       "    </tr>\n",
       "  </tbody>\n",
       "</table>\n",
       "</div>"
      ],
      "text/plain": [
       "                  EAN Descripcion\n",
       "count           20640       20640\n",
       "unique          20640       20217\n",
       "top     7501025403812            \n",
       "freq                1          30"
      ]
     },
     "execution_count": 6,
     "metadata": {},
     "output_type": "execute_result"
    }
   ],
   "source": [
    "import pandas as pd\n",
    "import re\n",
    "fields = ['Clave_Producto',\n",
    "    'Descripcion',\n",
    "    #'Descripcion2',\n",
    "    #'Precio_Compra',\n",
    "    #'Precio_Minimo_Venta',\n",
    "    #'Precio_Venta',\n",
    "    #'Precio_Mayoreo',\n",
    "    #'Precio_Medio_Mayoreo',\n",
    "    #'Impuesto IVA',\n",
    "    #'IEPS',\n",
    "    #'Clave_Alterna',\n",
    "    #'Catalogo SAT'\n",
    "]\n",
    "df3 = pd.read_csv('productos_ml2_170_202103.csv', index_col=False, usecols=fields)\n",
    "df3.rename(columns={'Clave_Producto': 'EAN'}, inplace=True)\n",
    "# dropping ALL duplicte values \n",
    "df3.drop_duplicates(subset=\"EAN\", keep=False, inplace=True)\n",
    "# filter EAN 8 length\n",
    "df3.EAN = df3.EAN.apply(str)\n",
    "df3 = df3[df3['EAN'].apply(lambda x: len(x)>=8)]\n",
    "df3.Descripcion = df3['Descripcion'].apply(lambda x: \" \".join(x.split(\".\")[1:]))\n",
    "df3.Descripcion = df3['Descripcion'].apply(lambda x: x.split(\"(\")[0])\n",
    "df3.Descripcion = df3['Descripcion'].apply(lambda x: x.replace(\"* \", \"\"))\n",
    "df3 = df3[df3.Descripcion.notnull()]\n",
    "df3 = trim_all_columns(df3)\n",
    "df3.describe()"
   ]
  },
  {
   "cell_type": "code",
   "execution_count": null,
   "id": "original-congo",
   "metadata": {},
   "outputs": [],
   "source": [
    "df_join1 = pd.merge(df, df2, on='EAN', how='outer')\n",
    "df_join1 = pd.merge(df3, df_join1, on='EAN', how='outer')\n",
    "df_join1 = pd.merge(df1, df_join1, on='EAN', how='outer')\n",
    "df_join1.describe()"
   ]
  },
  {
   "cell_type": "code",
   "execution_count": null,
   "id": "front-submission",
   "metadata": {},
   "outputs": [],
   "source": [
    "#df_join1[df_join1.producto.isnull() & df_join1.ITEM_NAME.isnull()] # ITEM_NAME y producto son null\n",
    "#df_join1[df_join1.producto.notnull() & df_join1.ITEM_NAME.notnull()].describe()\n",
    "#df_join1[df_join1.producto.notnull()].describe()\n",
    "f1 = (df_join1.producto.notnull() & df_join1.Descripcion.notnull())\n",
    "f2 = (df_join1.producto.notnull() & df_join1.ITEM_DESCRIPTION.notnull())\n",
    "f3 = (df_join1.producto.notnull() & df_join1.product_name.notnull())\n",
    "f4 = (df_join1.Descripcion.notnull() & df_join1.ITEM_DESCRIPTION.notnull())\n",
    "f5 = (df_join1.Descripcion.notnull() & df_join1.product_name.notnull())\n",
    "f6 = (df_join1.ITEM_DESCRIPTION.notnull() & df_join1.product_name.notnull())\n",
    "df_join1[f1 | f2 | f3 | f4 | f5 | f6].to_csv(\"test.csv\")\n"
   ]
  },
  {
   "cell_type": "code",
   "execution_count": null,
   "id": "deadly-mouse",
   "metadata": {},
   "outputs": [],
   "source": []
  }
 ],
 "metadata": {
  "kernelspec": {
   "display_name": "test",
   "language": "python",
   "name": "test"
  },
  "language_info": {
   "codemirror_mode": {
    "name": "ipython",
    "version": 3
   },
   "file_extension": ".py",
   "mimetype": "text/x-python",
   "name": "python",
   "nbconvert_exporter": "python",
   "pygments_lexer": "ipython3",
   "version": "3.9.1"
  }
 },
 "nbformat": 4,
 "nbformat_minor": 5
}
